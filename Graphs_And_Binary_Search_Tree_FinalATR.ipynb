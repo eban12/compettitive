{
 "cells": [
  {
   "cell_type": "markdown",
   "metadata": {},
   "source": [
    "# Name : Eyob Alemu\n",
    "# Department : IT\n",
    "# ID : ATR/5955/11"
   ]
  },
  {
   "cell_type": "markdown",
   "metadata": {},
   "source": [
    "# Graphs"
   ]
  },
  {
   "cell_type": "markdown",
   "metadata": {},
   "source": [
    "####  Created By: Senay W."
   ]
  },
  {
   "cell_type": "markdown",
   "metadata": {},
   "source": [
    "Graphs problems pervade computer science, and algorithms for working with them are fundamental to the field."
   ]
  },
  {
   "cell_type": "markdown",
   "metadata": {},
   "source": [
    "The objective of this part of the lab is:\n",
    "    - Representing a graph in a computer: Adjacencey list and Adjacency matrices. \n",
    "        \n",
    "    - Common algorithms to search a graph: Breadth-first and Depth-first Search. "
   ]
  },
  {
   "cell_type": "markdown",
   "metadata": {},
   "source": [
    "Often in computation we have __data__ from the world, and a __question__ we want to answer about these data."
   ]
  },
  {
   "cell_type": "markdown",
   "metadata": {},
   "source": [
    "To do so, we need to find a __model__ for the data, and a way to translate our question into a __mathematical question about the model__"
   ]
  },
  {
   "cell_type": "markdown",
   "metadata": {},
   "source": [
    " Here are some examples:\n",
    "\n",
    "* Suppose you have a map of Addis Ababa and want to find out what's the fastest way to get from the national museum to the market.\n",
    "\n",
    "* Suppose you are Facebook and you are trying to figure out how many friends of friends does the average Ethiopean has.\n",
    "\n",
    "* Suppose you are a geneticist, and are trying to figure out which genes are related to a particular type of colon cancer.\n",
    "\n"
   ]
  },
  {
   "cell_type": "markdown",
   "metadata": {},
   "source": [
    "What is perhaps most surprising is that these and many other questions, all use the same mathematical model of a __graph__ "
   ]
  },
  {
   "cell_type": "markdown",
   "metadata": {},
   "source": [
    "A __graph__ is just a way to store __connections__ between pairs of entities:\n",
    "\n",
    "* The graph of Addis's roads could be composed of all street intersections, with a connection between intersection $u$ and intersection $v$ if they are directly connected by a road.\n",
    "\n",
    "* The Facebook graphs is composed of all Facebook users, with a connection between user $u$ and user $v$ if they are friends.\n",
    "\n",
    "* The gene-symptom interaction graph is composed of all genes and all \"symptoms\" (also known as phenotypes: some observable differences in people), where gene $u$ is connected to symptom $v$ if there is a correlation between people having the gene $u$ and symptom $v$. "
   ]
  },
  {
   "cell_type": "markdown",
   "metadata": {},
   "source": [
    "Mathematically, a graph is a set $V$ of __vertices__ and a set $E$ of pairs of these vertices which is known as the set of __edges__. We say that a vertex $u\\in V$ is connected to $v\\in V$ if the pair $(u,v)$ is in $E$."
   ]
  },
  {
   "cell_type": "markdown",
   "metadata": {},
   "source": [
    "A graph where $(u,v)\\in E$ if and only if $(v,u)\\in E$ is known as an __undirected__ graphs. Undirected graphs form an important special case, and we will mostly be interested in those graphs. "
   ]
  },
  {
   "cell_type": "markdown",
   "metadata": {},
   "source": [
    "Sometimes the edges (or vertices) of the graph are __labeled__ (often by a number), for example in the case of the road network, we might label every road segment with the average time it takes to travel from one end to the other."
   ]
  },
  {
   "cell_type": "markdown",
   "metadata": {},
   "source": [
    "# Representations of a Graph:"
   ]
  },
  {
   "cell_type": "markdown",
   "metadata": {},
   "source": [
    "1. The __adjacency list representation__ is an array $L$ where $L[i]$ is the list of all neighbors of the vertex $i$ (i.e., all $j$ such that $(i,j)\\in E$)"
   ]
  },
  {
   "cell_type": "markdown",
   "metadata": {},
   "source": [
    "Question 1: What is a potential disadvantage of using the adjacency-list representaion ? "
   ]
  },
  {
   "cell_type": "markdown",
   "metadata": {},
   "source": [
    "2. The __adjacency matrix representation__ is an $n\\times n$ two-dimensional array $M$ (i.e., matrix) such that $M[i][j]$ equals $1$ if $j$ is a neighbor of $i$ and equals $0$ otherwise."
   ]
  },
  {
   "cell_type": "markdown",
   "metadata": {},
   "source": [
    "Question 2: What is a potential disadvantage of using the adjacency matrix presentation ?"
   ]
  },
  {
   "cell_type": "markdown",
   "metadata": {},
   "source": [
    "### Python Adjacency List Representation:"
   ]
  },
  {
   "cell_type": "code",
   "execution_count": 1,
   "metadata": {},
   "outputs": [
    {
     "name": "stdout",
     "output_type": "stream",
     "text": [
      "(0, ' have the following neightbourrs: ', 2)\n",
      "(0, ' have the following neightbourrs: ', 1)\n",
      "(1, ' have the following neightbourrs: ', 4)\n",
      "(1, ' have the following neightbourrs: ', 3)\n",
      "(1, ' have the following neightbourrs: ', 0)\n",
      "(2, ' have the following neightbourrs: ', 3)\n",
      "(2, ' have the following neightbourrs: ', 0)\n",
      "(3, ' have the following neightbourrs: ', 2)\n",
      "(3, ' have the following neightbourrs: ', 1)\n",
      "(4, ' have the following neightbourrs: ', 1)\n",
      "2\n",
      "1\n",
      "False\n",
      "[[0, 0, 0, 0, 0], [0, 0, 0, 0, 0], [0, 0, 0, 0, 0], [0, 0, 0, 0, 0], [0, 0, 0, 0, 0]]\n",
      "[[0, 1, 1, 0, 0], [1, 0, 0, 1, 1], [1, 0, 0, 1, 0], [0, 1, 1, 0, 0], [0, 1, 0, 0, 0]]\n"
     ]
    }
   ],
   "source": [
    "class AdjNode:\n",
    "    \n",
    "    def __init__(self ,  data):\n",
    "        self.vertex = data\n",
    "        self.next = None\n",
    "        \n",
    "        \n",
    "class Graph:\n",
    "    \n",
    "    def __init__(self, vertices):\n",
    "        self.V = vertices\n",
    "        self.graph = [None] * self.V\n",
    "        \n",
    "    def vertices(self):\n",
    "        return self.V\n",
    "    \n",
    "    def neighbours(self, u):\n",
    "        neighbours = self.graph[u]\n",
    "        while neighbours:\n",
    "            print(neighbours.vertex)\n",
    "            neighbours = neighbours.next\n",
    "   \n",
    "    def isEdge(self, u, v):\n",
    "        neighbours = self.graph[u]\n",
    "        flag = False\n",
    "        \n",
    "        while neighbours:\n",
    "            if neighbours.vertex == v:\n",
    "                return True\n",
    "            neighbours = neighbours.next\n",
    "        return False\n",
    "            \n",
    "    def addEdge(self, source , destination):\n",
    "        \n",
    "        node = AdjNode(destination)\n",
    "        node.next = self.graph[source]\n",
    "        self.graph[source] = node\n",
    "        \n",
    "        \n",
    "        node = AdjNode(source)\n",
    "        node.next = self.graph[destination]\n",
    "        self.graph[destination] = node\n",
    "        \n",
    "    def print_items(self):\n",
    "        for vertices in range(self.V):\n",
    "            #print(list(neighbours))\n",
    "            neighbours = self.graph[vertices]\n",
    "            while neighbours:\n",
    "                print(vertices,  \" have the following neightbourrs: \", neighbours.vertex)\n",
    "                neighbours = neighbours.next\n",
    "                \n",
    "    def convert_to_matrix(self):\n",
    "        n = self.V\n",
    "        M = [[0] * n for i in range(n)]\n",
    "        print(M)\n",
    "        for i in range(self.V):\n",
    "            for j in range(n):\n",
    "                if self.isEdge(i, j):\n",
    "                    M[i][j] = 1\n",
    "                else:\n",
    "                    M[i][j] = 0\n",
    "        return M\n",
    "            \n",
    "g = Graph(5)\n",
    "g.addEdge(0,1)\n",
    "g.addEdge(0, 2)\n",
    "g.addEdge(1, 3)\n",
    "g.addEdge(2, 3)\n",
    "g.addEdge(1, 4)\n",
    "g.print_items()\n",
    "#print(g.vertices())\n",
    "g.neighbours( 0)\n",
    "print(g.isEdge(4, 0))\n",
    "print(g.convert_to_matrix())"
   ]
  },
  {
   "cell_type": "markdown",
   "metadata": {},
   "source": [
    "Question 3: Implement Adjacency-matrix representation."
   ]
  },
  {
   "cell_type": "markdown",
   "metadata": {},
   "source": [
    "# Searching"
   ]
  },
  {
   "cell_type": "markdown",
   "metadata": {},
   "source": [
    "## Depth-First Search"
   ]
  },
  {
   "cell_type": "markdown",
   "metadata": {},
   "source": [
    "The strategy followed by depth-first search is, as its name implies, to search “deeper” in the graph whenever possible. Depth-first search explores edges out of the most recently discovered vertex v that still has unexplored edges leaving it. Once all of u’s edges have been explored, the search “backtracks” to explore edges leaving the vertex from which v was discovered. This process continues until we have discovered all the vertices that are reachable from the original source vertex. If any undiscovered vertices remain, then depth-first search selects one of them as a new source, and it repeats the search from that source. The algorithm repeats this\n",
    "entire process until it has discovered every vertex."
   ]
  },
  {
   "cell_type": "code",
   "execution_count": 4,
   "metadata": {},
   "outputs": [],
   "source": [
    "def connected_FIFO(source,target,G):\n",
    "    added = [False for i in range(len(G))]\n",
    "    added[source] = True\n",
    "    to_visit = [source] # to visit: list of vertices that are definitely connected to the source\n",
    "    while to_visit:\n",
    "        i = to_visit.pop(0) # remove first element\n",
    "        if i==target:\n",
    "            return True\n",
    "        for j in G[i]:\n",
    "            if not added[j]:\n",
    "                added[j] = True\n",
    "                to_visit.append(j)\n",
    "    return False"
   ]
  },
  {
   "cell_type": "markdown",
   "metadata": {},
   "source": [
    "## Breadth-First Search"
   ]
  },
  {
   "cell_type": "markdown",
   "metadata": {},
   "source": [
    "Given a graph G = (V, E)and a distinguished source vertex s, breadth-first\n",
    "search systematically explores the edges of G to “discover” every vertex that is\n",
    "reachable from s. It computes the distance (smallest number of edges) from s\n",
    "to each reachable vertex. It also produces a “breadth-first tree” with root s that\n",
    "contains all reachable vertices. For any vertex v reachable from s, the simple path\n",
    "in the breadth-first tree from s to v corresponds to a “shortest path” from s to v\n",
    "in G, that is, a path containing the smallest number of edges. The algorithm works\n",
    "on both directed and undirected graphs"
   ]
  },
  {
   "cell_type": "code",
   "execution_count": null,
   "metadata": {},
   "outputs": [],
   "source": [
    "def connected_FIFO(source,target,G, layout_method = None):\n",
    "    added = [False for i in range(len(G))]\n",
    "    added[source] = True\n",
    "    to_visit = [source] # to visit: list of vertices that are definitely connected to the source\n",
    "    while to_visit:\n",
    "        i = to_visit.pop(0) # remove first element\n",
    "        if i==target:\n",
    "            return True\n",
    "        for j in G[i]:\n",
    "            if not added[j]:\n",
    "                added[j] = True\n",
    "                to_visit.append(j)\n",
    "    return False"
   ]
  },
  {
   "cell_type": "markdown",
   "metadata": {},
   "source": [
    "# Bineary Search Tree"
   ]
  },
  {
   "cell_type": "markdown",
   "metadata": {},
   "source": [
    "Trees are used in many areas of computer science, including operating systems, graphics, database systems, and computer networking. Tree data structures have many things in common with their botanical cousins. A tree data structure has a root, branches, and leaves. The difference between a tree in nature and a tree in computer science is that a tree data structure has its root at the top and its\n",
    "leaves on the bottom."
   ]
  },
  {
   "cell_type": "markdown",
   "metadata": {},
   "source": [
    "A great example of a tree structure that you probably use every day is a file system.In a file\n",
    "system, directories, or folders, are structured as a tree. "
   ]
  },
  {
   "cell_type": "markdown",
   "metadata": {},
   "source": [
    "The file system tree has much in common with the biological classification tree. You can follow\n",
    "a path from the root to any directory. That path will uniquely identify that subdirectory (and\n",
    "all the files in it). Another important property of trees, derived from their hierarchical nature,\n",
    "is that you can move entire sections of a tree (called a subtree) to a different position in the\n",
    "tree without affecting the lower levels of the hierarchy. For example, we could take the entire\n",
    "subtree staring with /etc/, detach etc/ from the root and reattach it under usr/. This would change\n",
    "the unique pathname to httpd from /etc/httpd to /usr/etc/httpd, but would not affect the contents\n",
    "or any children of the httpd directory."
   ]
  },
  {
   "cell_type": "markdown",
   "metadata": {},
   "source": [
    "### Vocabulary "
   ]
  },
  {
   "cell_type": "markdown",
   "metadata": {},
   "source": [
    "Node: A node is a fundamental part of a tree. It can have a name, which we call the “key.” A node may also have additional information. We call this additional information the “payload.” While the payload information is not central to many tree algorithms, it is often critical in applications that make use of trees.\n"
   ]
  },
  {
   "cell_type": "markdown",
   "metadata": {},
   "source": [
    "Edge: An edge is another fundamental part of a tree. An edge connects two nodes to show\n",
    "that there is a relationship between them. Every node (except the root) is connected by\n",
    "exactly one incoming edge from another node. Each node may have several outgoing\n",
    "edges."
   ]
  },
  {
   "cell_type": "markdown",
   "metadata": {},
   "source": [
    "Root: The root of the tree is the only node in the tree that has no incoming edges. "
   ]
  },
  {
   "cell_type": "markdown",
   "metadata": {},
   "source": [
    "Path: A path is an ordered list of nodes that are connected by edges."
   ]
  },
  {
   "cell_type": "markdown",
   "metadata": {},
   "source": [
    "Children: The set of nodes c that have incoming edges from the same node to are said to be the\n",
    "children of that node"
   ]
  },
  {
   "cell_type": "markdown",
   "metadata": {},
   "source": [
    "Parent: A node is the parent of all the nodes it connects to with outgoing edges"
   ]
  },
  {
   "cell_type": "markdown",
   "metadata": {},
   "source": [
    "Sibling: Nodes in the tree that are children of the same parent are said to be siblings. "
   ]
  },
  {
   "cell_type": "markdown",
   "metadata": {},
   "source": [
    "Subtree: A subtree is a set of nodes and edges comprised of a parent and all the descendants of\n",
    "that parent."
   ]
  },
  {
   "cell_type": "markdown",
   "metadata": {},
   "source": [
    "Leaf: Node A leaf node is a node that has no children. "
   ]
  },
  {
   "cell_type": "markdown",
   "metadata": {},
   "source": [
    "Level: The level of a node n is the number of edges on the path from the root node to n."
   ]
  },
  {
   "cell_type": "markdown",
   "metadata": {},
   "source": [
    "## How to Represent a tree."
   ]
  },
  {
   "cell_type": "code",
   "execution_count": 3,
   "metadata": {},
   "outputs": [
    {
     "name": "stdout",
     "output_type": "stream",
     "text": [
      "a\n",
      "g\n",
      "b\n",
      "c\n",
      "hello\n"
     ]
    }
   ],
   "source": [
    "class BinaryTree:\n",
    "    \n",
    "    \"\"\"\n",
    "    Argument: \n",
    "        - An object to store the root.\n",
    "    \n",
    "    Initializing Important Attributes:\n",
    "            - left and right child\n",
    "    \"\"\"\n",
    "    def __init__(self, root):\n",
    "        self.key = root\n",
    "        self.left_child = None\n",
    "        self.right_child = None\n",
    "        \n",
    "    def insert_left(self, new_node):\n",
    "        if self.left_child == None:\n",
    "            self.left_child = BinaryTree(new_node)\n",
    "        else:\n",
    "            t = BinaryTree(new_node)\n",
    "            t.left_child = self.left_child\n",
    "            self.left_child = t\n",
    "            \n",
    "    def insert_right(self, new_node):\n",
    "        if self.right_child == None:\n",
    "            self.right_child = BinaryTree(new_node)\n",
    "        else:\n",
    "            t = BinaryTree(new_node)\n",
    "            t.right_child = self.right_child\n",
    "            self.right_child = t\n",
    "            \n",
    "    def get_right_child(self):\n",
    "        return self.right_child\n",
    "    \n",
    "    def get_left_child(self):\n",
    "        return self.left_child\n",
    "    \n",
    "    def set_root_val(self, obj):\n",
    "        self.key = obj\n",
    "        \n",
    "    def get_root_val(self):\n",
    "        return self.key\n",
    "    \n",
    "r = BinaryTree('a')\n",
    "print(r.get_root_val())\n",
    "#print(r.get_left_child())\n",
    "r.insert_left('b')\n",
    "r.insert_left('g')\n",
    "print(r.get_left_child().get_root_val())\n",
    "print(r.get_left_child().get_left_child().get_root_val())\n",
    "r.insert_right('c')\n",
    "print(r.get_right_child().get_root_val())\n",
    "r.get_right_child().set_root_val('hello')\n",
    "print(r.get_right_child().get_root_val())"
   ]
  },
  {
   "cell_type": "markdown",
   "metadata": {},
   "source": [
    "Question 4: \n",
    "Write a function build_tree that return a tree of your choice?"
   ]
  },
  {
   "cell_type": "markdown",
   "metadata": {},
   "source": [
    "## Binary Tree Application"
   ]
  },
  {
   "cell_type": "markdown",
   "metadata": {},
   "source": [
    "With the implementation of our tree data structure complete, we now look at an example of how a tree can be used to solve some real problems. In this section we will look at parse trees.Parse trees can be used to represent real-world constructions like sentences or mathematical expressions."
   ]
  },
  {
   "cell_type": "markdown",
   "metadata": {},
   "source": [
    "For Example: We can represent a mathematical expression such as ((7 + 3) * (5 − 2)) as a parse tree.\n",
    "\n",
    "We know that multiplication has a higher precedence than either addition or subtraction. Because of the parentheses, we know that before we can do the multiplication we must evaluate the parenthesized addition and subtraction expressions. The hierarchy of the tree helps us understand the order of evaluation for the whole expression. Before we can evaluate the top-level multiplication, we must evaluate the addition and the subtraction in the subtrees. The addition, which is the left subtree, evaluates to 10. The subtraction, which is the right subtree, evaluates to 3. Using the hierarchical structure of trees, we can simply replace an entire subtree with one node once we have evaluated the expressions in the children."
   ]
  },
  {
   "cell_type": "markdown",
   "metadata": {},
   "source": [
    "### Buliding a Parse Tree"
   ]
  },
  {
   "cell_type": "markdown",
   "metadata": {},
   "source": [
    "The first step in building a parse tree is to break up the expression string into a list of tokens.\n",
    "There are four different kinds of tokens to consider: left parentheses, right parentheses, operators, and operands. We know that whenever we read a left parenthesis we are starting a\n",
    "new expression, and hence we should create a new tree to correspond to that expression. Conversely, whenever we read a right parenthesis, we have finished an expression. We also know\n",
    "that operands are going to be leaf nodes and children of their operators. Finally, we know that every operator is going to have both a left and a right child."
   ]
  },
  {
   "cell_type": "markdown",
   "metadata": {},
   "source": [
    "Using the information from above we can define four rules as follows:\n",
    "    1. If the current token is a ‘(’, add a new node as the left child of the current node, and descend to the left child.\n",
    "    2. If the current token is in the list [‘+’,‘−’,‘/’,‘*’], set the root value of the current node to the operator represented by the current token. Add a new node as the right child of the current node and descend to the right child.\n",
    "    3. If the current token is a number, set the root value of the current node to the number and return to the parent.\n",
    "    4. If the current token is a ‘)’, go to the parent of the current node."
   ]
  },
  {
   "cell_type": "markdown",
   "metadata": {},
   "source": [
    "#### How to Keep the Parent ?\n",
    "Whenever we want to descend to a child of the current node, we first push the current node on the stack. When we want to return to the parent of the current node, we pop the parent off the stack."
   ]
  },
  {
   "cell_type": "code",
   "execution_count": 4,
   "metadata": {},
   "outputs": [],
   "source": [
    "class Stack:\n",
    "    \n",
    "    def __init__(self):\n",
    "        self.items = []\n",
    "        \n",
    "    def isEmpty(self):\n",
    "        return self.items  == []\n",
    "    \n",
    "    def push(self, item):\n",
    "        self.items.append(item)\n",
    "    \n",
    "    def pop(self):\n",
    "        if self.isEmpty():\n",
    "            return \"UnderFlow.\"\n",
    "        return self.items.pop()\n",
    "    \n",
    "    def peek(self):\n",
    "        if self.isEmpty():\n",
    "            return \"UnderFlow.\"\n",
    "        return self.items[ len(self.items) - 1 ]\n",
    "    \n",
    "    def size(self):\n",
    "        return len(self.items)"
   ]
  },
  {
   "cell_type": "code",
   "execution_count": 5,
   "metadata": {},
   "outputs": [],
   "source": [
    "def build_parse_tree(fp_expression):\n",
    "    fp_list = fp_expression.split()\n",
    "    p_stack = Stack()\n",
    "    e_tree = BinaryTree('')\n",
    "    p_stack.push(e_tree)\n",
    "    current_tree = e_tree\n",
    "    \n",
    "    for i in fp_list:\n",
    "        if i == '(':\n",
    "            current_tree.insert_left('')\n",
    "            p_stack.push(current_tree)\n",
    "            current_tree = current_tree.get_left_child()\n",
    "        elif i in ['+', '-', '/', '*']:\n",
    "            current_tree.set_root_val(i)\n",
    "            current_tree.insert_right('')\n",
    "            p_stack.push(current_tree)\n",
    "            current_tree = current_tree.get_right_child()\n",
    "        elif i == ')':\n",
    "            current_tree = p_stack.pop()   \n",
    "        elif i not in ['+', '-', '/', '*']:\n",
    "            current_tree.set_root_val(int(i))\n",
    "            current_tree = p_stack.pop() # Parent Node\n",
    "            \n",
    "        else:\n",
    "            raise ValueError   \n",
    "            \n",
    "    return e_tree"
   ]
  },
  {
   "cell_type": "markdown",
   "metadata": {},
   "source": [
    "### Evaluate the Parse Tree "
   ]
  },
  {
   "cell_type": "code",
   "execution_count": 34,
   "metadata": {},
   "outputs": [
    {
     "name": "stdout",
     "output_type": "stream",
     "text": [
      "23\n"
     ]
    }
   ],
   "source": [
    "import operator\n",
    "\n",
    "def evaluate(parse_tree):\n",
    "    \n",
    "    opers = { '+': operator.add, '-':operator.sub, '*': operator.mul,\n",
    "            '/': operator.truediv }\n",
    "    \n",
    "    left = parse_tree.get_left_child()\n",
    "    right = parse_tree.get_right_child()\n",
    "    \n",
    "    if left and right:\n",
    "        fn = opers[parse_tree.get_root_val()]\n",
    "        \n",
    "        return fn(evaluate(left), evaluate(right))\n",
    "    else:\n",
    "        return parse_tree.get_root_val()\n",
    "    \n",
    "parse_tree = build_parse_tree('( 3 + ( 4 * 5 ) )')\n",
    "print(evaluate(parse_tree))"
   ]
  },
  {
   "cell_type": "markdown",
   "metadata": {},
   "source": [
    "# Traversals"
   ]
  },
  {
   "cell_type": "markdown",
   "metadata": {},
   "source": [
    "There are three comonly used patterns to visit all nodes in a tree. The difference between these pattens is the order in which each node is visited. We call this visitation of the nodes a \"traversal.\"\n",
    "\n",
    "The three traversals we will look at are called preorder, inorder, and postorder. "
   ]
  },
  {
   "cell_type": "markdown",
   "metadata": {},
   "source": [
    "## In-Order"
   ]
  },
  {
   "cell_type": "markdown",
   "metadata": {},
   "source": [
    "In an inorder traversal, we recursively do an inorder traversal on the left subtree, visit the root node, and finally do a recursive inorder traversal of the right subtree."
   ]
  },
  {
   "cell_type": "code",
   "execution_count": 36,
   "metadata": {},
   "outputs": [],
   "source": [
    "def inorder(tree):\n",
    "    if tree:\n",
    "        inorder(tree.get_left_child())\n",
    "        print(tree.get_root_val())\n",
    "        inorder(tree.get_right_child())"
   ]
  },
  {
   "cell_type": "markdown",
   "metadata": {},
   "source": [
    "## Pre-Order"
   ]
  },
  {
   "cell_type": "markdown",
   "metadata": {},
   "source": [
    "In a preorder traversal, we visit the root node first, then recursively do a preorder traversal of the left subtree, followed by a recursive preorder traversal of the right subtree."
   ]
  },
  {
   "cell_type": "code",
   "execution_count": null,
   "metadata": {},
   "outputs": [],
   "source": [
    "def preorder(tree):\n",
    "    if tree:\n",
    "        print(tree.get_root_val())\n",
    "        preorder(tree.get_left_child())\n",
    "        preorder(tree.get_right_child())"
   ]
  },
  {
   "cell_type": "markdown",
   "metadata": {},
   "source": [
    "## Post-Order"
   ]
  },
  {
   "cell_type": "markdown",
   "metadata": {},
   "source": [
    "In a postorder traversal, we recursively do a postorder traversal of the left subtree and the right subtree followed by a visit to the root node."
   ]
  },
  {
   "cell_type": "code",
   "execution_count": null,
   "metadata": {},
   "outputs": [],
   "source": [
    "def postorder(tree):\n",
    "    if tree:\n",
    "        postorder(tree.get_left_child())\n",
    "        postorder(tree.get_right_child())\n",
    "        print(tree.get_root_val())"
   ]
  },
  {
   "cell_type": "markdown",
   "metadata": {},
   "source": [
    "## Implement Binary Search Tree"
   ]
  },
  {
   "cell_type": "code",
   "execution_count": 20,
   "metadata": {},
   "outputs": [
    {
     "name": "stdout",
     "output_type": "stream",
     "text": [
      "9\n",
      "10\n",
      "12\n",
      "20\n",
      "after deleting 12\n",
      "9\n",
      "10\n",
      "20\n",
      "after deleting 20\n",
      "9\n",
      "10\n"
     ]
    }
   ],
   "source": [
    "class BST:\n",
    "    def __init__(self, val):\n",
    "        self.val = val\n",
    "        self.right = None\n",
    "        self.left = None\n",
    "\n",
    "def insertInBST(root, val):\n",
    "    if root is None:\n",
    "        root = BST(val)\n",
    "    else:\n",
    "        if root.val < val:\n",
    "            if root.right:\n",
    "                insertInBST(root.right, val)\n",
    "            else:\n",
    "                root.right = BST(val)\n",
    "        else:\n",
    "            if root.left:\n",
    "                insertInBST(root.left, val)\n",
    "            else:\n",
    "                root.left = BST(val)\n",
    "\n",
    "def searchInBST(root, key):\n",
    "    if root:\n",
    "        if root.val == key:\n",
    "            return root\n",
    "        elif root.val < key:\n",
    "            return searchInBST(root.right, key)\n",
    "        else:\n",
    "            return searchInBST(root.left, key)\n",
    "    return -1\n",
    "\n",
    "def minNode(root):\n",
    "    current = root\n",
    "    while(current.left):\n",
    "        current = current.left\n",
    "    return current\n",
    "\n",
    "def deleteFromBST(root, key):\n",
    "    if root is None:\n",
    "        return root\n",
    "    \n",
    "    if root.val > key:\n",
    "        root.left = deleteFromBST(root.left, key)\n",
    "    elif root.val < key:\n",
    "        root.right = deleteFromBST(root.right, key)\n",
    "    else:\n",
    "        if root.left is None:\n",
    "            temp = root.right\n",
    "            root = None\n",
    "            return temp\n",
    "        elif root.right is None:\n",
    "            temp = root.left\n",
    "            root = None\n",
    "            return temp\n",
    "        \n",
    "        temp = minNode(root.right)\n",
    "        root.val = temp.val\n",
    "        root.right = deleteFromBST(root.right, temp.val)\n",
    "        \n",
    "    return root\n",
    "               \n",
    "    \n",
    "def inOrder(root):\n",
    "    if root:\n",
    "        inOrder(root.left)\n",
    "        print(root.val)\n",
    "        inOrder(root.right)\n",
    "\n",
    "        \n",
    "r = BST(12)\n",
    "insertInBST(r,10)\n",
    "insertInBST(r,9)\n",
    "insertInBST(r,20)\n",
    "inOrder(r)\n",
    "r = deleteFromBST(r, 12)\n",
    "print(\"after deleting 12\")\n",
    "inOrder(r)\n",
    "r = deleteFromBST(r, 20)\n",
    "print(\"after deleting 20\")\n",
    "inOrder(r)\n",
    "# searchInBST(r,20).val"
   ]
  },
  {
   "cell_type": "code",
   "execution_count": 27,
   "metadata": {},
   "outputs": [
    {
     "name": "stdout",
     "output_type": "stream",
     "text": [
      "0  have the following neightbourrs:  2\n",
      "0  have the following neightbourrs:  1\n",
      "1  have the following neightbourrs:  4\n",
      "1  have the following neightbourrs:  3\n",
      "1  have the following neightbourrs:  0\n",
      "2  have the following neightbourrs:  3\n",
      "2  have the following neightbourrs:  0\n",
      "3  have the following neightbourrs:  2\n",
      "3  have the following neightbourrs:  1\n",
      "4  have the following neightbourrs:  1\n",
      "2\n",
      "1\n",
      "False\n",
      "[[0, 0, 0, 0, 0], [0, 0, 0, 0, 0], [0, 0, 0, 0, 0], [0, 0, 0, 0, 0], [0, 0, 0, 0, 0]]\n",
      "[[0, 1, 1, 0, 0], [1, 0, 0, 1, 1], [1, 0, 0, 1, 0], [0, 1, 1, 0, 0], [0, 1, 0, 0, 0]]\n"
     ]
    }
   ],
   "source": [
    "class Adj:\n",
    "    def __init__(self, value):\n",
    "        self.value = value\n",
    "        self.next = None\n",
    "        \n",
    "        \n",
    "class Graph:\n",
    "    def __init__(self, vertices):\n",
    "        self.V = vertices\n",
    "        self.list = [None] * self.V\n",
    "        \n",
    "    def vertices(self):\n",
    "        return self.V\n",
    "    \n",
    "    def neighbours(self, u):\n",
    "        neighbours = self.list[u]\n",
    "        while neighbours:\n",
    "            print(neighbours.value)\n",
    "            neighbours = neighbours.next\n",
    "            \n",
    "    def isEdge(self, v, u):\n",
    "        neighbours = self.list[u]\n",
    "        while neighbours:\n",
    "            if neighbours.value == v:\n",
    "                return True\n",
    "            neighbours = neighbours.next\n",
    "        return False\n",
    "    \n",
    "    def addEdge(self, source , destination):\n",
    "        \n",
    "        node = Adj(destination)\n",
    "        node.next = self.list[source]\n",
    "        self.list[source] = node\n",
    "        \n",
    "        \n",
    "        node = Adj(source)\n",
    "        node.next = self.list[destination]\n",
    "        self.list[destination] = node\n",
    "        \n",
    "    def print_items(self):\n",
    "        for vertices in range(self.V):\n",
    "            neighbours = self.list[vertices]\n",
    "            while neighbours:\n",
    "                print(vertices,  \" have the following neightbourrs: \", neighbours.value)\n",
    "                neighbours = neighbours.next\n",
    "                \n",
    "    def convert_to_matrix(self):\n",
    "        n = self.V\n",
    "        M = [[0] * n for i in range(n)]\n",
    "        print(M)\n",
    "        for i in range(self.V):\n",
    "            for j in range(n):\n",
    "                if self.isEdge(i, j):\n",
    "                    M[i][j] = 1\n",
    "                else:\n",
    "                    M[i][j] = 0\n",
    "        return M\n",
    "\n",
    "g = Graph(5)\n",
    "g.addEdge(0,1)\n",
    "g.addEdge(0, 2)\n",
    "g.addEdge(1, 3)\n",
    "g.addEdge(2, 3)\n",
    "g.addEdge(1, 4)\n",
    "g.print_items()\n",
    "#print(g.vertices())\n",
    "g.neighbours( 0)\n",
    "print(g.isEdge(4, 0))\n",
    "print(g.convert_to_matrix())"
   ]
  },
  {
   "cell_type": "code",
   "execution_count": null,
   "metadata": {},
   "outputs": [],
   "source": []
  }
 ],
 "metadata": {
  "kernelspec": {
   "display_name": "Python 3",
   "language": "python",
   "name": "python3"
  },
  "language_info": {
   "codemirror_mode": {
    "name": "ipython",
    "version": 3
   },
   "file_extension": ".py",
   "mimetype": "text/x-python",
   "name": "python",
   "nbconvert_exporter": "python",
   "pygments_lexer": "ipython3",
   "version": "3.7.4"
  }
 },
 "nbformat": 4,
 "nbformat_minor": 2
}
